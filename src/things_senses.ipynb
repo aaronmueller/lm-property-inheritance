{
 "cells": [
  {
   "cell_type": "code",
   "execution_count": 2,
   "metadata": {},
   "outputs": [],
   "source": [
    "import csv\n",
    "import utils\n",
    "\n",
    "from nltk.corpus import wordnet as wn\n",
    "from collections import defaultdict"
   ]
  },
  {
   "cell_type": "code",
   "execution_count": 3,
   "metadata": {},
   "outputs": [],
   "source": [
    "triple_path = \"../data/things/things-triples.csv\"\n",
    "triples = utils.read_csv_dict(triple_path)"
   ]
  },
  {
   "cell_type": "code",
   "execution_count": 4,
   "metadata": {},
   "outputs": [],
   "source": [
    "hypernyms = defaultdict(lambda : set([\"\"]))\n",
    "is_hypernym = defaultdict(lambda : False)\n",
    "concept_senses = defaultdict(str)\n",
    "for triple in triples:\n",
    "    hypernym = triple[\"hypernym\"]\n",
    "    hyponym = triple[\"hyponym\"]\n",
    "    anchor = triple[\"anchor\"]\n",
    "\n",
    "    hypernyms[hyponym].add(anchor)\n",
    "    hypernyms[anchor].add(hypernym)\n",
    "\n",
    "    # if triple['anchor-sense'] == \"-\":\n",
    "    anchor_sense = triple['anchor-sense']\n",
    "    # if anchor in [\"breakfast\", \"office supply\", \"school supply\", \"women's clothing\"]:\n",
    "    if anchor == \"breakfast\":\n",
    "        anchor_sense = \"breakfast.n.00\"\n",
    "    elif anchor == \"office supply\":\n",
    "        anchor_sense = \"office_supply.n.00\"\n",
    "    elif anchor == \"school supply\":\n",
    "        anchor_sense = \"school_supply.n.00\"\n",
    "    elif anchor == \"women's clothing\":\n",
    "        anchor_sense = \"womens_clothing.n.00\"\n",
    "\n",
    "    concept_senses[anchor] = anchor_sense\n",
    "\n",
    "    try:\n",
    "        hyponym_sense = wn.synsets(hyponym, \"n\")[0].name()\n",
    "    except:\n",
    "        hyponym_sense = \"\"\n",
    "    \n",
    "    concept_senses[hypernym] = triple['hypernym-sense']\n",
    "    concept_senses[anchor] = anchor_sense\n",
    "    if hyponym not in concept_senses.keys():\n",
    "        concept_senses[hyponym] = hyponym_sense\n",
    "\n",
    "    is_hypernym[hypernym] = True\n",
    "    is_hypernym[anchor] = True\n",
    "\n",
    "concept_senses = dict(concept_senses)"
   ]
  },
  {
   "cell_type": "code",
   "execution_count": 23,
   "metadata": {},
   "outputs": [
    {
     "data": {
      "text/plain": [
       "'organism,'"
      ]
     },
     "execution_count": 23,
     "metadata": {},
     "output_type": "execute_result"
    }
   ],
   "source": [
    "\", \".join(sorted(hypernyms['animal'], reverse=True)).strip()"
   ]
  },
  {
   "cell_type": "code",
   "execution_count": 5,
   "metadata": {},
   "outputs": [],
   "source": [
    "with open(\"../data/things/things-senses.csv\", \"w\") as f:\n",
    "    writer = csv.writer(f)\n",
    "    writer.writerow([\"concept\", \"hypernyms\", \"is_anchor_hypernym\", \"sense\"])\n",
    "    for concept, sense in concept_senses.items():\n",
    "        writer.writerow([concept, \", \".join(sorted(hypernyms[concept], reverse=True)).strip(\",| \"), is_hypernym[concept], sense])"
   ]
  },
  {
   "cell_type": "code",
   "execution_count": null,
   "metadata": {},
   "outputs": [],
   "source": []
  }
 ],
 "metadata": {
  "kernelspec": {
   "display_name": "kmisra",
   "language": "python",
   "name": "python3"
  },
  "language_info": {
   "codemirror_mode": {
    "name": "ipython",
    "version": 3
   },
   "file_extension": ".py",
   "mimetype": "text/x-python",
   "name": "python",
   "nbconvert_exporter": "python",
   "pygments_lexer": "ipython3",
   "version": "3.11.4"
  }
 },
 "nbformat": 4,
 "nbformat_minor": 2
}
