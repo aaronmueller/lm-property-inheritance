{
 "cells": [
  {
   "cell_type": "code",
   "execution_count": 1,
   "metadata": {},
   "outputs": [
    {
     "name": "stderr",
     "output_type": "stream",
     "text": [
      "/home/km55359/.conda/envs/kmisra/lib/python3.11/site-packages/transformers/utils/hub.py:127: FutureWarning: Using `TRANSFORMERS_CACHE` is deprecated and will be removed in v5 of Transformers. Use `HF_HOME` instead.\n",
      "  warnings.warn(\n"
     ]
    }
   ],
   "source": [
    "import csv\n",
    "import config\n",
    "import lexicon\n",
    "import utils\n",
    "import prompt\n",
    "\n",
    "from collections import defaultdict\n",
    "from transformers import AutoTokenizer"
   ]
  },
  {
   "cell_type": "code",
   "execution_count": 2,
   "metadata": {},
   "outputs": [],
   "source": [
    "LEMMA_PATH = \"../data/things/things-lemmas-annotated.csv\""
   ]
  },
  {
   "cell_type": "code",
   "execution_count": 3,
   "metadata": {},
   "outputs": [],
   "source": [
    "# load all unique concepts\n",
    "concepts = defaultdict(lexicon.Concept)\n",
    "with open(LEMMA_PATH, \"r\") as f:\n",
    "    reader = csv.DictReader(f)\n",
    "    for row in reader:\n",
    "        if row[\"remove\"] != \"1\":\n",
    "            concepts[row[\"lemma\"]] = utils.lemma2concept(row)\n",
    "concepts = dict(concepts)"
   ]
  },
  {
   "cell_type": "code",
   "execution_count": 4,
   "metadata": {},
   "outputs": [
    {
     "data": {
      "text/plain": [
       "Concept(lemma='panda', singular='panda', plural='pandas', article='a panda', generic='p', taxonomic_phrase='are a type of')"
      ]
     },
     "execution_count": 4,
     "metadata": {},
     "output_type": "execute_result"
    }
   ],
   "source": [
    "'''\n",
    "lemma: identifier\n",
    "singular: singular form\n",
    "plural: plural form\n",
    "article: singular form with an appropriate article (a/an)\n",
    "generic: if generic info involving this concept uses a plural or a singular form: p if plural, s if singular\n",
    "taxonomic_phrase: taxonomic phrase for this concept (is a type of/are a type of)\n",
    "'''\n",
    "concepts['panda']"
   ]
  },
  {
   "cell_type": "code",
   "execution_count": 5,
   "metadata": {},
   "outputs": [
    {
     "data": {
      "text/plain": [
       "('pandas', 'garlic')"
      ]
     },
     "execution_count": 5,
     "metadata": {},
     "output_type": "execute_result"
    }
   ],
   "source": [
    "# surface forms when expressed in our stimuli:\n",
    "\n",
    "concepts['panda'].generic_surface_form(), concepts['garlic'].generic_surface_form() # you might have to remove \"a/an\" from this "
   ]
  },
  {
   "cell_type": "code",
   "execution_count": 6,
   "metadata": {},
   "outputs": [
    {
     "data": {
      "text/plain": [
       "('pandas are daxable', 'a garlic is daxable')"
      ]
     },
     "execution_count": 6,
     "metadata": {},
     "output_type": "execute_result"
    }
   ],
   "source": [
    "# pairing a concept with a property\n",
    "\n",
    "# define a property\n",
    "prop = lexicon.Property(\n",
    "    property_name=\"daxable\",\n",
    "    singular=\"is daxable\",\n",
    "    plural=\"are daxable\",\n",
    ")\n",
    "\n",
    "concepts['panda'].property_sentence(prop), concepts['garlic'].property_sentence(prop)\n"
   ]
  },
  {
   "cell_type": "code",
   "execution_count": 9,
   "metadata": {},
   "outputs": [
    {
     "data": {
      "text/plain": [
       "'Answer the question. Given that pandas are daxable, is it true that animals are daxable?\\nAnswer with Yes/No.\\n'"
      ]
     },
     "execution_count": 9,
     "metadata": {},
     "output_type": "execute_result"
    }
   ],
   "source": [
    "# create stimuli based on prompts\n",
    "\n",
    "# load prompts based on template defined in config.py\n",
    "template_config = config.PROMPTS[\"variation-qa-1\"]\n",
    "prompt_template = prompt.Prompt(\n",
    "    template=template_config[\"template\"], zero_shot=template_config[\"zero_shot\"]\n",
    ")\n",
    "\n",
    "# generate\n",
    "prompt_template.create_stimulus(\n",
    "    premise=concepts[\"panda\"], conclusion=concepts[\"animal\"], prop=prop\n",
    ")"
   ]
  },
  {
   "cell_type": "code",
   "execution_count": 12,
   "metadata": {},
   "outputs": [
    {
     "data": {
      "text/plain": [
       "'<s> [INST] Given that pandas are daxable, is it true that animals are daxable? Answer with Yes/No: [/INST]'"
      ]
     },
     "execution_count": 12,
     "metadata": {},
     "output_type": "execute_result"
    }
   ],
   "source": [
    "# generate stimulus in a format that chat models expect:\n",
    "tokenizer = AutoTokenizer.from_pretrained(\n",
    "    \"mistralai/Mistral-7B-Instruct-v0.2\", cache_dir=\"/home/shared/km_cache\"\n",
    ")  # ignore the cache part, it's some cursed gpu cluster issue for me\n",
    "\n",
    "prompt_template.create_stimulus(\n",
    "    premise=concepts[\"panda\"],\n",
    "    conclusion=concepts[\"animal\"],\n",
    "    prop=prop,\n",
    "    tokenizer=tokenizer,\n",
    ")"
   ]
  },
  {
   "cell_type": "code",
   "execution_count": null,
   "metadata": {},
   "outputs": [],
   "source": []
  }
 ],
 "metadata": {
  "kernelspec": {
   "display_name": "kmisra",
   "language": "python",
   "name": "python3"
  },
  "language_info": {
   "codemirror_mode": {
    "name": "ipython",
    "version": 3
   },
   "file_extension": ".py",
   "mimetype": "text/x-python",
   "name": "python",
   "nbconvert_exporter": "python",
   "pygments_lexer": "ipython3",
   "version": "3.11.4"
  }
 },
 "nbformat": 4,
 "nbformat_minor": 2
}
