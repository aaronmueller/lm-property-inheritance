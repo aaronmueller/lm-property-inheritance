{
 "cells": [
  {
   "cell_type": "code",
   "execution_count": null,
   "metadata": {},
   "outputs": [],
   "source": [
    "import torch\n",
    "\n",
    "from semantic_memory import vsm\n",
    "from tqdm import trange"
   ]
  },
  {
   "cell_type": "code",
   "execution_count": null,
   "metadata": {},
   "outputs": [],
   "source": [
    "embeddings = []\n",
    "with open(\"spose_embedding_66d_sorted.txt\", \"r\") as f:\n",
    "    lines = f.readlines()\n",
    "    for line in lines:\n",
    "        vector = [float(x) for x in line.split()]\n",
    "        embeddings.append(vector)\n",
    "\n",
    "embeddings = torch.tensor(embeddings)"
   ]
  },
  {
   "cell_type": "code",
   "execution_count": null,
   "metadata": {},
   "outputs": [],
   "source": [
    "vocab = open(\"unique_id.txt\", \"r\").readlines()\n",
    "vocab = [x.strip() for x in vocab]"
   ]
  },
  {
   "cell_type": "code",
   "execution_count": null,
   "metadata": {},
   "outputs": [],
   "source": [
    "things = vsm.VectorSpaceModel(\"THINGS 66d\")\n",
    "things.load_vectors_from_tensor(embeddings, vocab)"
   ]
  },
  {
   "cell_type": "code",
   "execution_count": null,
   "metadata": {},
   "outputs": [],
   "source": [
    "things.neighbor(\"mouse1\",k=10)"
   ]
  },
  {
   "cell_type": "code",
   "execution_count": null,
   "metadata": {},
   "outputs": [],
   "source": [
    "def dot_product_similarity(v1, v2):\n",
    "    return torch.dot(v1, v2)"
   ]
  },
  {
   "cell_type": "code",
   "execution_count": null,
   "metadata": {},
   "outputs": [],
   "source": [
    "dot_product_similarity(things(\"mouse1\").squeeze(0), things(\"rat\").squeeze(0))"
   ]
  },
  {
   "cell_type": "code",
   "execution_count": null,
   "metadata": {},
   "outputs": [],
   "source": [
    "def embedding2sim(embedding):\n",
    "    # Convert embedding to similarity matrix\n",
    "    n_objects = embedding.size(0)\n",
    "\n",
    "    # Compute the similarity matrix\n",
    "    sim = torch.mm(embedding, embedding.T)\n",
    "    esim = torch.exp(sim)\n",
    "\n",
    "    print(\"Initialized similarities\")\n",
    "\n",
    "    # Initialize the cp matrix\n",
    "    cp = torch.zeros(n_objects, n_objects)\n",
    "\n",
    "    print(\"Initialized matrix\")\n",
    "\n",
    "    # Compute the similarity matrix\n",
    "    for i in range(n_objects):\n",
    "        for j in trange(i + 1, n_objects):\n",
    "            ctmp = torch.zeros(n_objects)\n",
    "            for k in range(n_objects):\n",
    "                if k == i or k == j:\n",
    "                    continue\n",
    "                ctmp[k] = esim[i, j] / (esim[i, j] + esim[i, k] + esim[j, k])\n",
    "            cp[i, j] = torch.sum(ctmp)\n",
    "\n",
    "    # Normalize the cp matrix\n",
    "    cp = cp / (n_objects - 2)\n",
    "    cp = cp + cp.T  # Make the matrix symmetric\n",
    "    cp[torch.eye(n_objects).bool()] = 1  # Set the diagonal to 1\n",
    "\n",
    "    return cp"
   ]
  },
  {
   "cell_type": "code",
   "execution_count": null,
   "metadata": {},
   "outputs": [],
   "source": [
    "spose_sim = embedding2sim(embeddings)"
   ]
  },
  {
   "cell_type": "code",
   "execution_count": null,
   "metadata": {},
   "outputs": [],
   "source": [
    "n_objects = embeddings.size(0)\n",
    "c=0\n",
    "for i in range(n_objects):\n",
    "    for j in range(i + 1, n_objects):\n",
    "        c+=1\n",
    "        # ctmp = torch.zeros(n_objects)\n",
    "        # for k in range(n_objects):"
   ]
  },
  {
   "cell_type": "code",
   "execution_count": null,
   "metadata": {},
   "outputs": [],
   "source": [
    "c"
   ]
  },
  {
   "cell_type": "code",
   "execution_count": null,
   "metadata": {},
   "outputs": [],
   "source": []
  }
 ],
 "metadata": {
  "kernelspec": {
   "display_name": "base",
   "language": "python",
   "name": "python3"
  },
  "language_info": {
   "codemirror_mode": {
    "name": "ipython",
    "version": 3
   },
   "file_extension": ".py",
   "mimetype": "text/x-python",
   "name": "python",
   "nbconvert_exporter": "python",
   "pygments_lexer": "ipython3",
   "version": "3.11.4"
  }
 },
 "nbformat": 4,
 "nbformat_minor": 2
}
